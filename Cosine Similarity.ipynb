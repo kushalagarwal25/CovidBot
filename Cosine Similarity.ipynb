{
 "cells": [
  {
   "cell_type": "code",
   "execution_count": 1,
   "metadata": {},
   "outputs": [],
   "source": [
    "import pandas as pd\n",
    "import matplotlib.pyplot as plt\n",
    "import numpy as np\n",
    "import codecs\n",
    "from scipy import spatial\n",
    "from sklearn.manifold import TSNE\n",
    "import time"
   ]
  },
  {
   "cell_type": "code",
   "execution_count": 2,
   "metadata": {},
   "outputs": [],
   "source": [
    "import clean_text as ct\n",
    "import clean_text2 as ct2"
   ]
  },
  {
   "cell_type": "code",
   "execution_count": 3,
   "metadata": {},
   "outputs": [],
   "source": [
    "data_set = pd.read_csv('./covid_dataset_csv.csv')"
   ]
  },
  {
   "cell_type": "code",
   "execution_count": 14,
   "metadata": {},
   "outputs": [],
   "source": [
    "embeddings_dict = {}"
   ]
  },
  {
   "cell_type": "code",
   "execution_count": 15,
   "metadata": {},
   "outputs": [],
   "source": [
    "with open(\"./glove.6B.50d.txt\", 'r', encoding=\"utf-8\") as f:\n",
    "    for line in f:\n",
    "        values = line.split()\n",
    "        word = values[0]\n",
    "        vector = np.asarray(values[1:], \"float32\")\n",
    "        embeddings_dict[word] = vector"
   ]
  },
  {
   "cell_type": "code",
   "execution_count": 16,
   "metadata": {},
   "outputs": [],
   "source": [
    "def find_closest_embeddings(embedding):\n",
    "    return sorted(embeddings_dict.keys(), key=lambda word: spatial.distance.euclidean(embeddings_dict[word], embedding))"
   ]
  },
  {
   "cell_type": "code",
   "execution_count": 17,
   "metadata": {},
   "outputs": [
    {
     "data": {
      "text/plain": [
       "<function __main__.<lambda>(word)>"
      ]
     },
     "execution_count": 17,
     "metadata": {},
     "output_type": "execute_result"
    }
   ],
   "source": [
    "lambda word: spatial.distance.euclidean(embeddings_dict[word], embedding)"
   ]
  },
  {
   "cell_type": "code",
   "execution_count": 4,
   "metadata": {},
   "outputs": [],
   "source": [
    "def read_data(file_name):\n",
    "    with open(file_name,'r',encoding='utf8') as f:\n",
    "        word_vocab = set() # not using list to avoid duplicate entry\n",
    "        word2vector = {}\n",
    "        for line in f:\n",
    "            line_ = line.strip() #Remove white space\n",
    "            words_Vec = line_.split()\n",
    "            word_vocab.add(words_Vec[0])\n",
    "            word2vector[words_Vec[0]] = np.array(words_Vec[1:],dtype=float)\n",
    "    print(\"Total Words in DataSet:\",len(word_vocab))\n",
    "    return word_vocab,word2vector"
   ]
  },
  {
   "cell_type": "code",
   "execution_count": 5,
   "metadata": {},
   "outputs": [
    {
     "name": "stdout",
     "output_type": "stream",
     "text": [
      "Total Words in DataSet: 400000\n"
     ]
    }
   ],
   "source": [
    "vocab, w2v = read_data(\"./glove.6B.50d.txt\")\n",
    "w2v['covid'] = w2v['coronavirus']"
   ]
  },
  {
   "cell_type": "code",
   "execution_count": 6,
   "metadata": {},
   "outputs": [
    {
     "name": "stdout",
     "output_type": "stream",
     "text": [
      "<class 'dict'>\n"
     ]
    }
   ],
   "source": [
    "print(type(w2v))\n",
    "w2v['covid'] = w2v['coronavirus']\n",
    "w2v['covid-19'] = w2v['coronavirus']\n",
    "w2v['covid19'] = w2v['coronavirus']\n",
    "w2v['corona virus'] = w2v['coronavirus']"
   ]
  },
  {
   "cell_type": "code",
   "execution_count": 8,
   "metadata": {},
   "outputs": [
    {
     "name": "stdout",
     "output_type": "stream",
     "text": [
      "<class 'set'>\n"
     ]
    }
   ],
   "source": [
    "print(type(vocab))"
   ]
  },
  {
   "cell_type": "code",
   "execution_count": 7,
   "metadata": {},
   "outputs": [],
   "source": [
    "def cos_sim(u,v):\n",
    "    numerator_ = u.dot(v)\n",
    "    denominator_= np.sqrt(np.sum(np.square(u))) * np.sqrt(np.sum(np.square(v)))\n",
    "    return numerator_/denominator_"
   ]
  },
  {
   "cell_type": "code",
   "execution_count": 7,
   "metadata": {},
   "outputs": [
    {
     "name": "stdout",
     "output_type": "stream",
     "text": [
      "400004\n"
     ]
    }
   ],
   "source": [
    "print(len(w2v))"
   ]
  },
  {
   "cell_type": "code",
   "execution_count": 8,
   "metadata": {},
   "outputs": [],
   "source": [
    "def cos_sim(u,v):\n",
    "    numerator = u.dot(v)\n",
    "    denominator= np.sqrt(np.sum(np.square(u))) * np.sqrt(np.sum(np.square(v)))\n",
    "    return numerator/denominator\n",
    "def overall_similarity(q1,data_set):\n",
    "    similarity=[]\n",
    "    q1_clean = [ct2.getClearReview(i) for i in [q1]][0].split()\n",
    "    for i in range(data_set.shape[0]):\n",
    "        q2 = data_set.iloc[i]['0']\n",
    "#         print(q2)\n",
    "        q2_clean = [ct2.getClearReview(i) for i in [q2]][0].split()\n",
    "        ans = 0;\n",
    "        for w1 in q1_clean:\n",
    "            max1_ = 0\n",
    "            for w2 in q2_clean:\n",
    "                if w2 not in vocab:\n",
    "                    continue\n",
    "                sim1 = cos_sim(w2v[w1],w2v[w2])\n",
    "                max1_ = max(sim1,max1_)\n",
    "            ans += max1_\n",
    "        similarity.append(ans/len(q1_clean))\n",
    "    return similarity\n",
    "def overall_similarity0(q1,data_set):\n",
    "    similarity=[]\n",
    "    q1_clean = [ct2.getClearReview(i) for i in [q1]][0].split()\n",
    "    for i in range(data_set.shape[0]):\n",
    "        q2 = data_set.iloc[i]['0']\n",
    "#         print(q2)\n",
    "        q2_clean = [ct2.getClearReview(i) for i in [q2]][0].split()\n",
    "        ans = 0;\n",
    "        for w1 in q1_clean:\n",
    "            max1_ = 0\n",
    "            for w2 in q2_clean:\n",
    "                if w2 not in vocab:\n",
    "                    continue\n",
    "                sim1 = cos_sim(w2v[w1],w2v[w2])\n",
    "                max1_ = max(sim1,max1_)\n",
    "            ans += max1_\n",
    "        similarity.append(ans/len(q1_clean))\n",
    "    return similarity\n",
    "# def overall_similarity(q1,data_set):\n",
    "#     similarity0 = overall_similarity0(q1,data_set)\n",
    "#     similarity1 = overall_similarity1(q1,data_set)\n",
    "#     similarity = np.array(similarity0)+np.array(similarity1)\n",
    "#     print(similarity0.shape)\n",
    "#     print(similarity1.shape)\n",
    "#     print(similarity.shape)\n",
    "#     similarity = list(similarity)\n",
    "#     return similarity"
   ]
  },
  {
   "cell_type": "code",
   "execution_count": 25,
   "metadata": {},
   "outputs": [
    {
     "name": "stdout",
     "output_type": "stream",
     "text": [
      "0.7362626093652115\n"
     ]
    }
   ],
   "source": [
    "q1 = 'Will warm weather stop the outbreak of coronavirus?'\n",
    "q2 = 'Can high temperatures thwart the spread coronavirus?'\n",
    "q1_clean = [ct2.getClearReview(i) for i in [q1]][0].split()\n",
    "q2_clean = [ct2.getClearReview(i) for i in [q2]][0].split()\n",
    "ans = 0;\n",
    "for w1 in q1_clean:\n",
    "    max1_ = 0\n",
    "    for w2 in q2_clean:\n",
    "        sim1 = cos_sim(w2v[w1],w2v[w2])\n",
    "        max1_ = max(sim1,max1_)\n",
    "    ans += max1_\n",
    "print(ans/len(q1_clean))"
   ]
  },
  {
   "cell_type": "code",
   "execution_count": 26,
   "metadata": {},
   "outputs": [
    {
     "name": "stdout",
     "output_type": "stream",
     "text": [
      "0.47914359723652716\n"
     ]
    }
   ],
   "source": [
    "similarity = overall_similarity('Will warn weather stop the outbreak of coronavirus?',data_set)\n",
    "print(similarity[1])"
   ]
  },
  {
   "cell_type": "code",
   "execution_count": 9,
   "metadata": {},
   "outputs": [
    {
     "name": "stdout",
     "output_type": "stream",
     "text": [
      "0.13676047325134277\n"
     ]
    },
    {
     "data": {
      "image/png": "[encoded data removed]",
      "text/plain": [
       "<Figure size 432x288 with 1 Axes>"
      ]
     },
     "metadata": {},
     "output_type": "display_data"
    },
    {
     "name": "stdout",
     "output_type": "stream",
     "text": [
      "35\n",
      "What is a novel coronavirus?\n",
      "A novel coronavirus is a new coronavirus that has not been previously identified. The virus causing coronavirus disease 2019 (COVID-19), is not the same as thecoronaviruses that commonly circulate among humansand cause mild illness, like the common cold.A diagnosis with coronavirus 229E, NL63, OC43, or HKU1 is not the same as a COVID-19 diagnosis. Patients with COVID-19 will be evaluated and cared for differently than patients with common coronavirus diagnosis.\n"
     ]
    }
   ],
   "source": [
    "start = time.time() # time object\n",
    "similarity = overall_similarity('what is covid',data_set)\n",
    "end = time.time() # time object\n",
    "print(end-start)\n",
    "# print(similarity)\n",
    "plt.plot(similarity)\n",
    "plt.show()\n",
    "print(np.argmax(similarity))\n",
    "print(data_set.iloc[np.argmax(similarity)]['0'],data_set.iloc[np.argmax(similarity)]['1'],sep='\\n')"
   ]
  },
  {
   "cell_type": "code",
   "execution_count": 17,
   "metadata": {},
   "outputs": [
    {
     "name": "stdout",
     "output_type": "stream",
     "text": [
      "Am I protected against COVID-19 if I got vaccinated against influenza or pneumococcus this year?\n",
      "How long can the virus live on a doorknob? On cash? On my keyboard?\n",
      "Since domestic cats can get infected with the virus that causes COVID-19, should I worry about my cat?\n",
      "Whose food security and livelihoods are most at risk due to the pandemic?\n",
      "\n",
      "How long does the virus survive on surfaces?\n",
      "Why is providing contraception/ family planning, as well as family planning services and information, important during the COVID-19 pandemic?\n"
     ]
    }
   ],
   "source": [
    "for x in range(len(similarity)):\n",
    "    if(similarity[x]>0.80):\n",
    "        print(data_set.iloc[x]['0'])"
   ]
  },
  {
   "cell_type": "code",
   "execution_count": 41,
   "metadata": {},
   "outputs": [],
   "source": [
    "import pickle\n",
    "pickle_out = open(\"res02.pickle\",\"wb\")\n",
    "pickle.dump(res2,pickle_out)\n",
    "pickle_out.close()"
   ]
  },
  {
   "cell_type": "code",
   "execution_count": 37,
   "metadata": {},
   "outputs": [],
   "source": [
    "res1 = dict(list(w2v.items())[len(w2v)//2:]) \n",
    "res2 = dict(list(w2v.items())[:len(w2v)//2]) "
   ]
  },
  {
   "cell_type": "code",
   "execution_count": 39,
   "metadata": {},
   "outputs": [
    {
     "name": "stdout",
     "output_type": "stream",
     "text": [
      "200002\n"
     ]
    }
   ],
   "source": [
    "print(len(res1))"
   ]
  },
  {
   "cell_type": "code",
   "execution_count": 26,
   "metadata": {},
   "outputs": [],
   "source": [
    "z = {**res1, **res2}"
   ]
  },
  {
   "cell_type": "code",
   "execution_count": 29,
   "metadata": {},
   "outputs": [
    {
     "name": "stdout",
     "output_type": "stream",
     "text": [
      "400001\n"
     ]
    }
   ],
   "source": [
    "print(len(z))"
   ]
  },
  {
   "cell_type": "code",
   "execution_count": 30,
   "metadata": {},
   "outputs": [],
   "source": [
    "pickle_in = open('vocab.pickle','rb')\n",
    "vocab = pickle.load(pickle_in)"
   ]
  },
  {
   "cell_type": "code",
   "execution_count": 33,
   "metadata": {},
   "outputs": [
    {
     "name": "stdout",
     "output_type": "stream",
     "text": [
      "<class 'dict'>\n"
     ]
    }
   ],
   "source": [
    "print(type(check1))"
   ]
  }
 ],
 "metadata": {
  "kernelspec": {
   "display_name": "Python 3",
   "language": "python",
   "name": "python3"
  },
  "language_info": {
   "codemirror_mode": {
    "name": "ipython",
    "version": 3
   },
   "file_extension": ".py",
   "mimetype": "text/x-python",
   "name": "python",
   "nbconvert_exporter": "python",
   "pygments_lexer": "ipython3",
   "version": "3.6.9"
  }
 },
 "nbformat": 4,
 "nbformat_minor": 4
}
